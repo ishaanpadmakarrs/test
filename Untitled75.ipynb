{
  "nbformat": 4,
  "nbformat_minor": 0,
  "metadata": {
    "colab": {
      "provenance": [],
      "toc_visible": true,
      "authorship_tag": "ABX9TyO+BdUwO9BxjW7rtRDM/arD",
      "include_colab_link": true
    },
    "kernelspec": {
      "name": "python3",
      "display_name": "Python 3"
    },
    "language_info": {
      "name": "python"
    }
  },
  "cells": [
    {
      "cell_type": "markdown",
      "metadata": {
        "id": "view-in-github",
        "colab_type": "text"
      },
      "source": [
        "<a href=\"https://colab.research.google.com/github/ishaanpadmakarrs/test/blob/dev/Untitled75.ipynb\" target=\"_parent\"><img src=\"https://colab.research.google.com/assets/colab-badge.svg\" alt=\"Open In Colab\"/></a>"
      ]
    },
    {
      "cell_type": "code",
      "execution_count": 1,
      "metadata": {
        "colab": {
          "base_uri": "https://localhost:8080/"
        },
        "id": "DeHLdP7k7bbw",
        "outputId": "b2785898-2791-4d6c-a9dd-6401b770e2f1"
      },
      "outputs": [
        {
          "output_type": "stream",
          "name": "stdout",
          "text": [
            "v1\n"
          ]
        }
      ],
      "source": [
        "print(\"v1\")"
      ]
    },
    {
      "cell_type": "code",
      "source": [
        "x = 2+9"
      ],
      "metadata": {
        "id": "kdeEWTZgAReS"
      },
      "execution_count": null,
      "outputs": []
    }
  ]
}